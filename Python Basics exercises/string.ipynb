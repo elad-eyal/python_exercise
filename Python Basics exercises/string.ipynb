{
 "cells": [
  {
   "cell_type": "code",
   "execution_count": null,
   "metadata": {},
   "outputs": [],
   "source": [
    "#!/usr/bin/env python3 -tt\n",
    "# Copyright 2010 Google Inc.\n",
    "# Licensed under the Apache License, Version 2.0\n",
    "# http://www.apache.org/licenses/LICENSE-2.0\n",
    "# Python 3 version https://github.com/eladeyal-intel/python_exercise\n",
    "from __future__ import print_function"
   ]
  },
  {
   "cell_type": "markdown",
   "metadata": {},
   "source": [
    "Google's Python Class<br>\n",
    "http://code.google.com/edu/languages/google-python-class/"
   ]
  },
  {
   "cell_type": "markdown",
   "metadata": {},
   "source": [
    "# Basic string exercises\n",
    "Fill in the code for the functions below. main() is already set up\n",
    "to call the functions with a few different inputs,\n",
    "printing 'OK' when each function is correct.\n",
    "\n",
    "The starter code for each function includes a 'return'\n",
    "which is just a placeholder for your code.\n",
    "\n",
    "It's ok if you do not complete all the functions, and there\n",
    "are some additional functions to try in the file \"string2\"."
   ]
  },
  {
   "cell_type": "markdown",
   "metadata": {},
   "source": [
    "## donuts\n",
    "Given an int count of a number of donuts, return a string\n",
    "of the form 'Number of donuts: COUNT', where COUNT is the number\n",
    "passed in. However, if the count is 10 or more, then use the word 'many'\n",
    "instead of the actual count.\n",
    "    \n",
    "So donuts(5) returns 'Number of donuts: 5'\n",
    "\n",
    "and donuts(23) returns 'Number of donuts: many'"
   ]
  },
  {
   "cell_type": "code",
   "execution_count": null,
   "metadata": {},
   "outputs": [],
   "source": [
    "def donuts(count):\n",
    "  # +++your code here+++\n",
    "  return\n"
   ]
  },
  {
   "cell_type": "markdown",
   "metadata": {},
   "source": [
    "Here is some code to test what you write works"
   ]
  },
  {
   "cell_type": "code",
   "execution_count": null,
   "metadata": {},
   "outputs": [],
   "source": [
    "def test(got, expected):\n",
    "  if got == expected:\n",
    "    prefix = ' OK '\n",
    "  else:\n",
    "    prefix = '  X '\n",
    "  print('{} got: {} expected: {}'.format(prefix, repr(got), repr(expected)))"
   ]
  },
  {
   "cell_type": "code",
   "execution_count": null,
   "metadata": {},
   "outputs": [],
   "source": [
    "test(donuts(4), 'Number of donuts: 4')\n",
    "test(donuts(9), 'Number of donuts: 9')\n",
    "test(donuts(10), 'Number of donuts: many')\n",
    "test(donuts(99), 'Number of donuts: many')"
   ]
  },
  {
   "cell_type": "markdown",
   "metadata": {},
   "source": [
    "## both_ends\n",
    "Given a string s, return a string made of the first 2 and the last 2 chars of the original string, so 'spring' yields 'spng'. However, if the string length is less than 2, return instead the empty string."
   ]
  },
  {
   "cell_type": "code",
   "execution_count": null,
   "metadata": {},
   "outputs": [],
   "source": [
    "def both_ends(s):\n",
    "  # +++your code here+++\n",
    "  return\n"
   ]
  },
  {
   "cell_type": "code",
   "execution_count": null,
   "metadata": {},
   "outputs": [],
   "source": [
    "test(both_ends('spring'), 'spng')\n",
    "test(both_ends('Hello'), 'Helo')\n",
    "test(both_ends('a'), '')\n",
    "test(both_ends('xyz'), 'xyyz')"
   ]
  },
  {
   "cell_type": "markdown",
   "metadata": {},
   "source": [
    "## fix_start\n",
    "Given a string s, return a string\n",
    "where all occurences of its first char have\n",
    "been changed to '+', except do not change\n",
    "the first char itself.\n",
    "\n",
    "e.g. 'babble' yields 'ba++le'\n",
    "\n",
    "Assume that the string is length 1 or more.\n",
    "\n",
    "Hint: s.replace(stra, strb) returns a version of string s\n",
    "where all instances of stra have been replaced by strb."
   ]
  },
  {
   "cell_type": "code",
   "execution_count": null,
   "metadata": {},
   "outputs": [],
   "source": [
    "def fix_start(s):\n",
    "  # +++your code here+++\n",
    "  return\n"
   ]
  },
  {
   "cell_type": "code",
   "execution_count": null,
   "metadata": {},
   "outputs": [],
   "source": [
    "test(fix_start('babble'), 'ba++le')\n",
    "test(fix_start('aardvark'), 'a+rdv+rk')\n",
    "test(fix_start('google'), 'goo+le')\n",
    "test(fix_start('donut'), 'donut')"
   ]
  },
  {
   "cell_type": "markdown",
   "metadata": {},
   "source": [
    "## MixUp\n",
    "Given strings a and b, return a single string with a and b separated\n",
    "by a space \"a b\", except swap the first 2 chars of each string.\n",
    "    \n",
    "so:   'mix', 'pod' -> 'pox mid'\n",
    "\n",
    "and   'dog', 'dinner' -> 'dig donner'\n",
    "\n",
    "Assume a and b are length 2 or more."
   ]
  },
  {
   "cell_type": "code",
   "execution_count": null,
   "metadata": {},
   "outputs": [],
   "source": [
    "def mix_up(a, b):\n",
    "  # +++your code here+++\n",
    "  return\n"
   ]
  },
  {
   "cell_type": "code",
   "execution_count": null,
   "metadata": {},
   "outputs": [],
   "source": [
    "test(mix_up('mix', 'pod'), 'pox mid')\n",
    "test(mix_up('dog', 'dinner'), 'dig donner')\n",
    "test(mix_up('gnash', 'sport'), 'spash gnort')\n",
    "test(mix_up('pezzy', 'firm'), 'fizzy perm')"
   ]
  }
 ],
 "metadata": {
  "kernelspec": {
   "display_name": "Python 3",
   "language": "python",
   "name": "python3"
  },
  "language_info": {
   "codemirror_mode": {
    "name": "ipython",
    "version": 3
   },
   "file_extension": ".py",
   "mimetype": "text/x-python",
   "name": "python",
   "nbconvert_exporter": "python",
   "pygments_lexer": "ipython3",
   "version": "3.6.6"
  }
 },
 "nbformat": 4,
 "nbformat_minor": 2
}
