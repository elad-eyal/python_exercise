{
 "cells": [
  {
   "cell_type": "code",
   "execution_count": null,
   "metadata": {},
   "outputs": [],
   "source": [
    "#!/usr/bin/env python3 -tt\n",
    "# Copyright 2010 Google Inc.\n",
    "# Licensed under the Apache License, Version 2.0\n",
    "# http://www.apache.org/licenses/LICENSE-2.0\n",
    "# Python 3 version https://github.com/eladeyal-intel/python_exercise\n",
    "from __future__ import print_function"
   ]
  },
  {
   "cell_type": "markdown",
   "metadata": {},
   "source": [
    "Google's Python Class<br>\n",
    "http://code.google.com/edu/languages/google-python-class/"
   ]
  },
  {
   "cell_type": "markdown",
   "metadata": {},
   "source": [
    "# Wordcount exercise"
   ]
  },
  {
   "cell_type": "markdown",
   "metadata": {},
   "source": [
    "## Preperation\n",
    "Download the sample input file wordcount_input so it is available for reading later on. The \"!\" indicates that this is not a Python command but a shell command."
   ]
  },
  {
   "cell_type": "code",
   "execution_count": null,
   "metadata": {},
   "outputs": [],
   "source": [
    "!wget https://raw.githubusercontent.com/eladeyal-intel/python_exercise/master/Python%20Basics%20exercises/wordcount_input.txt"
   ]
  },
  {
   "cell_type": "markdown",
   "metadata": {},
   "source": [
    "## exercise\n",
    "\n",
    "1. Implement a `print_words(filename)` function that counts how often each word appears in the text and prints:<br>\n",
    "word1 count1<br>\n",
    "word2 count2<br>\n",
    "...<br>\n",
    "\n",
    "Print the above list in order sorted by word (python will sort punctuation to come before letters -- that's fine). Store all the words as lowercase, so 'The' and 'the' count as the same word.\n",
    "\n",
    "2. Implement a `print_top(filename)` which is similar to `print_words()` but which prints just the top 5 most common words sorted so the most common word is first, then the next most common, and so on.\n",
    "\n",
    "Use `str.split()` (no arguments) to split on all whitespace.\n",
    "\n",
    "Workflow: Don't build the whole program at once. Get it to an intermediate \n",
    "milestone and print your data structure. When that's working, try for the next milestone.\n",
    "\n",
    "Optional: define a helper function to avoid code duplication inside\n",
    "`print_words()` and `print_top()`."
   ]
  },
  {
   "cell_type": "code",
   "execution_count": null,
   "metadata": {},
   "outputs": [],
   "source": [
    "import sys\n",
    "\n",
    "# +++your code here+++\n",
    "\n",
    "def word_count_dict(filename):\n",
    "  \"\"\"Returns a word/count dict for this filename.\"\"\"\n",
    "  # Utility used by count() and Topcount().\n",
    "  word_count = {}  # Map each word to its count\n",
    "  input_file = open(filename, 'r')\n",
    "  for line in input_file:\n",
    "    words = line.split()\n",
    "    for word in words:\n",
    "      word = word.lower()\n",
    "      # Special case if we're seeing this word for the first time.\n",
    "      if not word in word_count:\n",
    "        word_count[word] = 1\n",
    "      else:\n",
    "        word_count[word] = word_count[word] + 1\n",
    "  input_file.close()  # Not strictly required, but good form.\n",
    "  return word_count\n",
    "\n",
    "def print_words(filename):\n",
    "  \"\"\"Prints one per line '<word> <count>' sorted by word for the given file.\"\"\"\n",
    "  word_count = word_count_dict(filename)\n",
    "  words = sorted(word_count.keys())\n",
    "  for word in words:\n",
    "    print(word, word_count[word])\n",
    "\n",
    "def get_count(word_count_tuple):\n",
    "  \"\"\"Returns the count from a dict word/count tuple  -- used for custom sort.\"\"\"\n",
    "  return word_count_tuple[1]\n",
    "\n",
    "def print_top(filename):\n",
    "  \"\"\"Prints the top count listing for the given file.\"\"\"\n",
    "  word_count = word_count_dict(filename)\n",
    "\n",
    "  # Each item is a (word, count) tuple.\n",
    "  # Sort them so the big counts are first using key=get_count() to extract count.\n",
    "  items = sorted(word_count.items(), key=get_count, reverse=True)\n",
    "\n",
    "  # Print the first 5\n",
    "  for item in items[:5]:\n",
    "    print(item[0], item[1])\n"
   ]
  },
  {
   "cell_type": "markdown",
   "metadata": {},
   "source": [
    "## Test"
   ]
  },
  {
   "cell_type": "code",
   "execution_count": null,
   "metadata": {},
   "outputs": [],
   "source": [
    "print_words('wordcount_input.txt')"
   ]
  },
  {
   "cell_type": "code",
   "execution_count": null,
   "metadata": {},
   "outputs": [],
   "source": [
    "# This is what the output should look like:\n",
    "\n",
    "!wget -q -O- https://raw.githubusercontent.com/eladeyal-intel/python_exercise/master/Python%20Basics%20exercises/wordcount_output.txt"
   ]
  },
  {
   "cell_type": "code",
   "execution_count": null,
   "metadata": {},
   "outputs": [],
   "source": [
    "print_top('wordcount_input.txt')"
   ]
  },
  {
   "cell_type": "code",
   "execution_count": null,
   "metadata": {},
   "outputs": [],
   "source": [
    "# This is what the output should look like:\n",
    "\n",
    "!wget -q -O- https://raw.githubusercontent.com/eladeyal-intel/python_exercise/master/Python%20Basics%20exercises/printtop_output.txt"
   ]
  }
 ],
 "metadata": {
  "kernelspec": {
   "display_name": "Python 3",
   "language": "python",
   "name": "python3"
  },
  "language_info": {
   "codemirror_mode": {
    "name": "ipython",
    "version": 3
   },
   "file_extension": ".py",
   "mimetype": "text/x-python",
   "name": "python",
   "nbconvert_exporter": "python",
   "pygments_lexer": "ipython3",
   "version": "3.6.6"
  }
 },
 "nbformat": 4,
 "nbformat_minor": 2
}
